{
 "cells": [
  {
   "cell_type": "markdown",
   "metadata": {},
   "source": [
    "# Object Oriented Programming(OOP) with Python\n",
    "\n"
   ]
  },
  {
   "cell_type": "markdown",
   "metadata": {},
   "source": [
    " programming paradigm that uses objects and classes to structure and organize code. Python, being an object-oriented language, supports OOP principles such as inheritance, polymorphism, encapsulation, and abstraction."
   ]
  },
  {
   "cell_type": "markdown",
   "metadata": {},
   "source": [
    "### Basic Concepts\n",
    "\n",
    "#### Classes and Objects\n",
    "\n",
    "> **Class**: A blueprint for creating objects. It defines a set of attributes and methods that the objects created from the class can have.<BR/>\n",
    "> **Object**: An instance of a class. It can have attributes (data) and methods (functions) defined by the class."
   ]
  },
  {
   "cell_type": "code",
   "execution_count": 6,
   "metadata": {},
   "outputs": [
    {
     "name": "stdout",
     "output_type": "stream",
     "text": [
      "Buddy says woof!\n"
     ]
    }
   ],
   "source": [
    "class Dog:\n",
    "  def __init__(self, name, age):\n",
    "    self.name = name\n",
    "    self.age = age\n",
    "\n",
    "  def bark(self):\n",
    "    return f\"{self.name} says woof!\"\n",
    "  \n",
    "  # Creating a object\n",
    "my_dog = Dog(\"Buddy\", 3)\n",
    "print(my_dog.bark()) # output: Buddy says woof!"
   ]
  },
  {
   "cell_type": "markdown",
   "metadata": {},
   "source": [
    "The __ init__ method is a special method called a constructor. It is called when an object is instantiated and initializes the object’s attributes."
   ]
  },
  {
   "cell_type": "code",
   "execution_count": 7,
   "metadata": {},
   "outputs": [
    {
     "name": "stdout",
     "output_type": "stream",
     "text": [
      "Valentina\n",
      "22\n"
     ]
    }
   ],
   "source": [
    "class Person:\n",
    "  def __init__(self, name, age):\n",
    "    self.name = name\n",
    "    self.age = age\n",
    "\n",
    "p = Person(\"Valentina\", 22)\n",
    "print(p.name)\n",
    "print(p.age)"
   ]
  },
  {
   "cell_type": "markdown",
   "metadata": {},
   "source": [
    "## Four Pillars of OOP\n",
    "\n",
    "#### Encapsulation\n",
    "\n",
    "Encapsulation is the bundling of data (attributes) and methods (functions) that operate on the data into a single unit or class. It restricts direct access to some of an object’s components, which can prevent the accidental modification of data."
   ]
  },
  {
   "cell_type": "code",
   "execution_count": 8,
   "metadata": {},
   "outputs": [
    {
     "name": "stdout",
     "output_type": "stream",
     "text": [
      "Toyota\n",
      "Corolla\n",
      "Camry\n"
     ]
    }
   ],
   "source": [
    "class Car:\n",
    "  def __init__(self, make, model): \n",
    "    self.__make = make\n",
    "    self.__model = model\n",
    "\n",
    "  def get_make(self):\n",
    "    return self.__make\n",
    "\n",
    "  def get_model(self):\n",
    "    return self.__model\n",
    "  \n",
    "  def set_model(self, model):\n",
    "    self.__model = model\n",
    "\n",
    "car = Car(\"Toyota\", \"Corolla\")\n",
    "print(car.get_make())\n",
    "print(car.get_model())\n",
    "car.set_model(\"Camry\")\n",
    "print(car.get_model())"
   ]
  },
  {
   "cell_type": "markdown",
   "metadata": {},
   "source": [
    "#### Inheritance\n",
    "Inheritance allows a class to inherit attributes and methods from another class. The class that inherits is called the derived (or child) class, and the class from which it inherits is called the base (or parent) class."
   ]
  },
  {
   "cell_type": "code",
   "execution_count": 9,
   "metadata": {},
   "outputs": [
    {
     "name": "stdout",
     "output_type": "stream",
     "text": [
      "{self.name} says woof!\n",
      "{self.name} says meow!\n"
     ]
    }
   ],
   "source": [
    "class Animal:\n",
    "  def __init__(self, name):\n",
    "    self.name = name\n",
    "\n",
    "  def speak(self):\n",
    "    raise NotImplementedError(\"Subclass must implement abstract method\")\n",
    "  \n",
    "class Dog(Animal):\n",
    "  def speak(self):\n",
    "    return \"{self.name} says woof!\"\n",
    "  \n",
    "class Cat(Animal):\n",
    "  def speak(self):\n",
    "    return \"{self.name} says meow!\"\n",
    "  \n",
    "dog = Dog(\"Husky\")\n",
    "cat = Cat(\"Whiskers\")\n",
    "print(dog.speak())  \n",
    "print(cat.speak())"
   ]
  },
  {
   "cell_type": "markdown",
   "metadata": {},
   "source": [
    "#### Polymorphism\n",
    "\n",
    "Polymorphism allows methods to do different things based on the object it is acting upon. It allows the same method to have different implementations."
   ]
  },
  {
   "cell_type": "code",
   "execution_count": 11,
   "metadata": {},
   "outputs": [
    {
     "name": "stdout",
     "output_type": "stream",
     "text": [
      "Buddy says woof!\n",
      "Whiskers says meow!\n",
      "Tweety says chirp!\n"
     ]
    }
   ],
   "source": [
    "class Dog(Animal):\n",
    "    def speak(self):\n",
    "        return f\"{self.name} says woof!\"\n",
    "\n",
    "class Cat(Animal):\n",
    "    def speak(self):\n",
    "        return f\"{self.name} says meow!\"\n",
    "\n",
    "class Bird:\n",
    "  def __init__(self, name):\n",
    "    self.name = name\n",
    "\n",
    "  def speak(self):\n",
    "    return f\"{self.name} says chirp!\"\n",
    "  \n",
    "animals = [Dog(\"Buddy\"), Cat(\"Whiskers\"), Bird(\"Tweety\")]\n",
    "for animal in animals:\n",
    "  print(animal.speak())"
   ]
  }
 ],
 "metadata": {
  "kernelspec": {
   "display_name": "Python 3",
   "language": "python",
   "name": "python3"
  },
  "language_info": {
   "codemirror_mode": {
    "name": "ipython",
    "version": 3
   },
   "file_extension": ".py",
   "mimetype": "text/x-python",
   "name": "python",
   "nbconvert_exporter": "python",
   "pygments_lexer": "ipython3",
   "version": "3.12.3"
  }
 },
 "nbformat": 4,
 "nbformat_minor": 2
}
