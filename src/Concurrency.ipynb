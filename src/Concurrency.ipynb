{
 "cells": [
  {
   "cell_type": "markdown",
   "metadata": {},
   "source": [
    "# Concurrency in Python\n",
    "\n",
    "Concurrency in Python allows multiple tasks to run concurrently, improving the performance and efficiency of applications, especially for I/O-bound operations. Python provides several ways to achieve concurrency, including threading, multiprocessingm, and asynchronous programming (asyncio)\n",
    "\n",
    "### Threading\n",
    "\n",
    "**Threading** allows mutiple threads (smaller unit of a process) to run concurrently within the same process space. It is suitable for I/O-bound tasks but has limitations with CPU-bound tasks due to  Python's Global Interprete Lock(GIL).\n",
    "\n",
    "###### Basic Threading"
   ]
  },
  {
   "cell_type": "code",
   "execution_count": 1,
   "metadata": {},
   "outputs": [
    {
     "name": "stdout",
     "output_type": "stream",
     "text": [
      "Letter: a\n",
      "Number: 0\n",
      "Letter: b\n",
      "Number: 1\n",
      "Letter: c\n",
      "Number: 2\n",
      "Letter: d\n",
      "Number: 3\n",
      "Letter: e\n",
      "Number: 4\n",
      "Done\n"
     ]
    }
   ],
   "source": [
    "import threading\n",
    "import time\n",
    "\n",
    "def print_numbers():\n",
    "  for i in range(5):\n",
    "    time.sleep(1)\n",
    "    print(f\"Number: {i}\")\n",
    "\n",
    "def print_letters():\n",
    "  for letter in \"abcde\":\n",
    "    time.sleep(1)\n",
    "    print(f\"Letter: {letter}\")\n",
    "  \n",
    "thread1 = threading.Thread(target=print_numbers)\n",
    "thread2 = threading.Thread(target=print_letters)\n",
    "\n",
    "thread1.start()\n",
    "thread2.start()\n",
    "\n",
    "thread1.join()\n",
    "thread2.join()\n",
    "\n",
    "print(\"Done\")"
   ]
  },
  {
   "cell_type": "markdown",
   "metadata": {},
   "source": [
    "## Multiprocessing\n",
    "\n",
    "Multiprocessing allows multiple processes to run concurrently, each with its own Python interpreter and memory space. This approach avoids the GIL and is suitable for CPU-bound tasks."
   ]
  },
  {
   "cell_type": "code",
   "execution_count": 4,
   "metadata": {},
   "outputs": [
    {
     "name": "stdout",
     "output_type": "stream",
     "text": [
      "Done\n"
     ]
    }
   ],
   "source": [
    "import multiprocessing\n",
    "import time\n",
    "\n",
    "def print_numbers():\n",
    "    for i in range(5):\n",
    "        time.sleep(1)\n",
    "        print(f\"Number: {i}\")\n",
    "\n",
    "def print_letters():\n",
    "    for letter in \"abcde\":\n",
    "        time.sleep(1)\n",
    "        print(f\"Letter: {letter}\")\n",
    "\n",
    "process1 = multiprocessing.Process(target=print_numbers)\n",
    "process2 = multiprocessing.Process(target=print_letters)\n",
    "\n",
    "process1.start()\n",
    "process2.start()\n",
    "\n",
    "process1.join()\n",
    "process2.join()\n",
    "\n",
    "print(\"Done\")"
   ]
  },
  {
   "cell_type": "markdown",
   "metadata": {},
   "source": [
    "## Asynchronous Programming (asyncio)\n",
    "\n",
    "Asynchronous programming using the `asyncio` module is well-suited for I/O-bound tasks and allows writing asynchronous code using `async` and `await` keywords."
   ]
  },
  {
   "cell_type": "code",
   "execution_count": 1,
   "metadata": {},
   "outputs": [
    {
     "name": "stdout",
     "output_type": "stream",
     "text": [
      "Number: 0\n",
      "Letter: a\n",
      "Number: 1\n",
      "Letter: b\n",
      "Number: 2\n",
      "Letter: c\n",
      "Number: 3\n",
      "Letter: d\n",
      "Number: 4\n",
      "Letter: e\n"
     ]
    },
    {
     "name": "stderr",
     "output_type": "stream",
     "text": [
      "C:\\Users\\hanni\\AppData\\Local\\Temp\\ipykernel_23352\\446717263.py:27: RuntimeWarning: coroutine 'main' was never awaited\n",
      "  asyncio.run(main())\n",
      "RuntimeWarning: Enable tracemalloc to get the object allocation traceback\n"
     ]
    }
   ],
   "source": [
    "import asyncio\n",
    "\n",
    "async def print_numbers():\n",
    "    for i in range(5):\n",
    "        await asyncio.sleep(1)\n",
    "        print(f\"Number: {i}\")\n",
    "\n",
    "async def print_letters():\n",
    "    for letter in \"abcde\":\n",
    "        await asyncio.sleep(1)\n",
    "        print(f\"Letter: {letter}\")\n",
    "\n",
    "async def main():\n",
    "    task1 = asyncio.create_task(print_numbers())\n",
    "    task2 = asyncio.create_task(print_letters())\n",
    "    await task1\n",
    "    await task2\n",
    "\n",
    "# Check if an event loop is already running\n",
    "try:\n",
    "    asyncio.run(main())\n",
    "except RuntimeError as e:\n",
    "    if str(e) == \"asyncio.run() cannot be called from a running event loop\":\n",
    "        # Running inside Jupyter or another environment with a running event loop\n",
    "        import nest_asyncio\n",
    "        nest_asyncio.apply()\n",
    "        asyncio.run(main())"
   ]
  }
 ],
 "metadata": {
  "kernelspec": {
   "display_name": "Python 3",
   "language": "python",
   "name": "python3"
  },
  "language_info": {
   "codemirror_mode": {
    "name": "ipython",
    "version": 3
   },
   "file_extension": ".py",
   "mimetype": "text/x-python",
   "name": "python",
   "nbconvert_exporter": "python",
   "pygments_lexer": "ipython3",
   "version": "3.12.3"
  }
 },
 "nbformat": 4,
 "nbformat_minor": 2
}
