{
 "cells": [
  {
   "cell_type": "markdown",
   "metadata": {},
   "source": [
    "# Collections\n",
    "\n",
    "Python's collections module provides alternatives to Python's general-purpose built-in containers like `list`, `dict`, and `tuple`. These specialized container datatypes additional functionalities and are optimized for specific tasks. Let's explore the most commonly used collections in Python. \n",
    "\n",
    "#### Collections Module\n",
    "To use these advanced collections type, you need to import the `collections` module:\n"
   ]
  },
  {
   "cell_type": "code",
   "execution_count": null,
   "metadata": {},
   "outputs": [],
   "source": [
    "import collections"
   ]
  },
  {
   "cell_type": "markdown",
   "metadata": {},
   "source": [
    "#### Namedtuple\n",
    "\n",
    "`namedtuple` is a factory function for creating tuple subclasses with named fields. It is useful for creating self-documenting and immutable collections of items."
   ]
  },
  {
   "cell_type": "code",
   "execution_count": 1,
   "metadata": {},
   "outputs": [
    {
     "name": "stdout",
     "output_type": "stream",
     "text": [
      "11 22\n"
     ]
    }
   ],
   "source": [
    "from collections import namedtuple\n",
    "\n",
    "Point = namedtuple('Point', ['x','y'])\n",
    "\n",
    "p = Point(11, 22)\n",
    "print(p.x, p.y)\n"
   ]
  },
  {
   "cell_type": "markdown",
   "metadata": {},
   "source": [
    "#### Deque\n",
    "\n",
    "`deque` (double-ended queue) is a list-like container with fast appends and pops on either end. It is suitable for implementing queues and stacks."
   ]
  },
  {
   "cell_type": "code",
   "execution_count": 2,
   "metadata": {},
   "outputs": [
    {
     "name": "stdout",
     "output_type": "stream",
     "text": [
      "deque(['z', 'a', 'b', 'c', 'd'])\n",
      "deque(['a', 'b', 'c'])\n"
     ]
    }
   ],
   "source": [
    "from collections import deque\n",
    "\n",
    "d = deque(['a', 'b', 'c'])\n",
    "d.append('d')\n",
    "d.appendleft('z')\n",
    "print(d)\n",
    "\n",
    "d.pop()\n",
    "d.popleft()\n",
    "print(d)"
   ]
  },
  {
   "cell_type": "markdown",
   "metadata": {},
   "source": [
    "#### Counter\n",
    "\n",
    "`Counter` is a dictionary subclass designed for counting hashable objects. It is useful for tallying or counting objects.\n"
   ]
  },
  {
   "cell_type": "code",
   "execution_count": 4,
   "metadata": {},
   "outputs": [
    {
     "name": "stdout",
     "output_type": "stream",
     "text": [
      "Counter({'a': 3, 'b': 2, 'c': 1, 'd': 1})\n",
      "[('a', 3), ('b', 2)]\n"
     ]
    }
   ],
   "source": [
    "from collections import Counter\n",
    "\n",
    "c = Counter(['a', 'b', 'c', 'd', 'a', 'b', 'a'])\n",
    "print(c)\n",
    "\n",
    "print(c.most_common(2))"
   ]
  },
  {
   "cell_type": "markdown",
   "metadata": {},
   "source": [
    "#### OrderedDict\n",
    "\n",
    "`OrderedDict` is a dictionary subclass that remembers the order in which items were inserted. It is useful when the order of items is important."
   ]
  },
  {
   "cell_type": "code",
   "execution_count": 5,
   "metadata": {},
   "outputs": [
    {
     "name": "stdout",
     "output_type": "stream",
     "text": [
      "OrderedDict({'one': 1, 'two': 2, 'three': 3})\n"
     ]
    }
   ],
   "source": [
    "from collections import OrderedDict\n",
    "\n",
    "od = OrderedDict()\n",
    "od['one'] = 1\n",
    "od['two'] = 2\n",
    "od['three'] = 3\n",
    "print(od)"
   ]
  },
  {
   "cell_type": "markdown",
   "metadata": {},
   "source": [
    "#### Defaultdict\n",
    "\n",
    "`defaultdict` is a dictionary subclass that calls a factory function to supply missing values. It is useful when you need to handle missing keys gracefully."
   ]
  },
  {
   "cell_type": "code",
   "execution_count": 6,
   "metadata": {},
   "outputs": [
    {
     "name": "stdout",
     "output_type": "stream",
     "text": [
      "1\n",
      "0\n"
     ]
    }
   ],
   "source": [
    "from collections import defaultdict\n",
    "\n",
    "dd = defaultdict(int)\n",
    "dd['a'] += 1\n",
    "print(dd['a'])\n",
    "print(dd['b'])"
   ]
  },
  {
   "cell_type": "markdown",
   "metadata": {},
   "source": [
    "#### ChainMap\n",
    "\n",
    "`ChainMap` is a class for managing multiple dictionaries as a single view, It is useful for combining multiple dictionaries or contexts."
   ]
  },
  {
   "cell_type": "code",
   "execution_count": 1,
   "metadata": {},
   "outputs": [
    {
     "name": "stdout",
     "output_type": "stream",
     "text": [
      "ChainMap({'one': 1, 'two': 2}, {'three': 3, 'four': 4})\n",
      "3\n"
     ]
    }
   ],
   "source": [
    "from collections import ChainMap\n",
    "\n",
    "dict1 = {'one': 1, 'two': 2}\n",
    "dict2 = {'three': 3, 'four': 4}\n",
    "chain = ChainMap(dict1, dict2)\n",
    "\n",
    "print(chain)\n",
    "print(chain['three'])"
   ]
  },
  {
   "cell_type": "markdown",
   "metadata": {},
   "source": [
    "#### UserDict, UserList and UserString\n",
    "\n",
    "`UserDict`, `UserList` and `UserString` are wrapper classes than act as base classes for creating custom dictionary, list and spring-like objects."
   ]
  },
  {
   "cell_type": "code",
   "execution_count": 2,
   "metadata": {},
   "outputs": [
    {
     "name": "stdout",
     "output_type": "stream",
     "text": [
      "Adding 4\n",
      "HELLO\n"
     ]
    }
   ],
   "source": [
    "from collections import UserDict, UserList, UserString\n",
    "\n",
    "class MyDict(UserDict):\n",
    "  def __sefitem__(self, key, value):\n",
    "    print(f\"Setting {key} to {value}\")\n",
    "    super().__setitem__(key, value)\n",
    "\n",
    "class MyList(UserList):\n",
    "  def append(self, item):\n",
    "    print(f\"Adding {item}\")\n",
    "    super().append(item)\n",
    "\n",
    "class MyString(UserString):\n",
    "  def upper(self):\n",
    "    return self.data.upper()\n",
    "  \n",
    "d = MyDict()\n",
    "d['a'] = 1\n",
    "\n",
    "l = MyList([1, 2, 3])\n",
    "l.append(4)\n",
    "\n",
    "s = MyString(\"Hello\")\n",
    "print(s.upper())"
   ]
  },
  {
   "cell_type": "markdown",
   "metadata": {},
   "source": [
    "## Summary\n",
    "- `namedtuple` Immutable, self-documenting tuples with named fields.\n",
    "- `deque` Double-ended queue optimized for fast appends and pops.\n",
    "- `Counter` Dictionary subclass for counting hashable objects.\n",
    "- `OrderedDict` Dictionary that remembers the order of item insertion.\n",
    "- `defaultdict` Dictionary with a factory function for missing keys.\n",
    "- `ChainMap` Combines multiple dictionaries into a single view.\n",
    "- `UserDict, UserList, UserString` Base classes for creating custom dict, list and string-lile objects\n",
    "\n",
    "These specialized collections type can help you write more efficient and readable code by providing additional functionality and better performance for specific tasks."
   ]
  }
 ],
 "metadata": {
  "kernelspec": {
   "display_name": "Python 3",
   "language": "python",
   "name": "python3"
  },
  "language_info": {
   "codemirror_mode": {
    "name": "ipython",
    "version": 3
   },
   "file_extension": ".py",
   "mimetype": "text/x-python",
   "name": "python",
   "nbconvert_exporter": "python",
   "pygments_lexer": "ipython3",
   "version": "3.12.3"
  }
 },
 "nbformat": 4,
 "nbformat_minor": 2
}
