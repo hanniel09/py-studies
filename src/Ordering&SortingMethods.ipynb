{
 "cells": [
  {
   "cell_type": "markdown",
   "metadata": {},
   "source": [
    "# Ordering  & Sorting Methods Python Reference"
   ]
  },
  {
   "cell_type": "markdown",
   "metadata": {},
   "source": [
    "# Sorting Lists\n",
    "\n",
    "##### Method sort"
   ]
  },
  {
   "cell_type": "code",
   "execution_count": 2,
   "metadata": {},
   "outputs": [
    {
     "name": "stdout",
     "output_type": "stream",
     "text": [
      "[1, 2, 4, 9]\n"
     ]
    }
   ],
   "source": [
    "numbers = [4, 2, 9, 1]\n",
    "numbers.sort()\n",
    "print(numbers)"
   ]
  },
  {
   "cell_type": "markdown",
   "metadata": {},
   "source": [
    "##### Sorted Function"
   ]
  },
  {
   "cell_type": "code",
   "execution_count": 1,
   "metadata": {},
   "outputs": [
    {
     "name": "stdout",
     "output_type": "stream",
     "text": [
      "[0, 1, 2, 4, 5, 8, 10]\n"
     ]
    }
   ],
   "source": [
    "numbers = [8, 4, 5, 1, 2, 0, 10]\n",
    "numbers_sorted = sorted(numbers)\n",
    "print(numbers_sorted)"
   ]
  },
  {
   "cell_type": "markdown",
   "metadata": {},
   "source": [
    "##### Using Key Parameter\n",
    "\n",
    "_The key parameter allows you to pass a function that extracts a comparison key from each list element._"
   ]
  },
  {
   "cell_type": "code",
   "execution_count": 2,
   "metadata": {},
   "outputs": [
    {
     "name": "stdout",
     "output_type": "stream",
     "text": [
      "['apple', 'banana', 'cherry']\n"
     ]
    }
   ],
   "source": [
    "words = [\"banana\", \"apple\", \"cherry\"]\n",
    "words.sort(key=len)\n",
    "print(words)"
   ]
  },
  {
   "cell_type": "markdown",
   "metadata": {},
   "source": [
    "## Sorting Tuples\n",
    "\n",
    "##### Sorting by Multiple Criteria"
   ]
  },
  {
   "cell_type": "code",
   "execution_count": 2,
   "metadata": {},
   "outputs": [
    {
     "name": "stdout",
     "output_type": "stream",
     "text": [
      "[('Bob', 20), ('Charlie', 23), ('Alice', 25)]\n"
     ]
    }
   ],
   "source": [
    "students = [(\"Alice\", 25), (\"Bob\", 20), (\"Charlie\", 23)]\n",
    "students.sort(key=lambda student: student[1])\n",
    "print(students)"
   ]
  },
  {
   "cell_type": "markdown",
   "metadata": {},
   "source": [
    "## Sorting Dictionaries\n",
    "\n",
    "##### Sorting by Keys"
   ]
  },
  {
   "cell_type": "code",
   "execution_count": 1,
   "metadata": {},
   "outputs": [
    {
     "name": "stdout",
     "output_type": "stream",
     "text": [
      "['apple', 'banana', 'pear']\n"
     ]
    }
   ],
   "source": [
    "my_dict = {'banana': 3, 'apple': 4, 'pear': 1}\n",
    "sorted_keys = sorted(my_dict.keys())\n",
    "print(sorted_keys)"
   ]
  },
  {
   "cell_type": "markdown",
   "metadata": {},
   "source": [
    "##### Sorting by Values"
   ]
  },
  {
   "cell_type": "code",
   "execution_count": 2,
   "metadata": {},
   "outputs": [
    {
     "name": "stdout",
     "output_type": "stream",
     "text": [
      "[('pear', 1), ('banana', 3), ('apple', 4)]\n"
     ]
    }
   ],
   "source": [
    "my_dict = {'banana': 3, 'apple': 4, 'pear': 1}\n",
    "sorted_items = sorted(my_dict.items(), key=lambda item: item[1])\n",
    "print(sorted_items)"
   ]
  },
  {
   "cell_type": "markdown",
   "metadata": {},
   "source": [
    "## Advanced Sorting\n",
    "\n",
    "##### Using operator Module"
   ]
  },
  {
   "cell_type": "code",
   "execution_count": 3,
   "metadata": {},
   "outputs": [
    {
     "name": "stdout",
     "output_type": "stream",
     "text": [
      "[('Bob', 20), ('Charlie', 23), ('Alice', 25)]\n"
     ]
    }
   ],
   "source": [
    "from operator import itemgetter\n",
    "\n",
    "students = [('Alice', 25), ('Bob', 20), ('Charlie', 23)]\n",
    "students_sorted = sorted(students, key=itemgetter(1))\n",
    "print(students_sorted)"
   ]
  },
  {
   "cell_type": "markdown",
   "metadata": {},
   "source": [
    "##### Using functools.cmp_to_key for Complex Sorting"
   ]
  },
  {
   "cell_type": "code",
   "execution_count": 4,
   "metadata": {},
   "outputs": [
    {
     "name": "stdout",
     "output_type": "stream",
     "text": [
      "[1, 2, 4, 9]\n"
     ]
    }
   ],
   "source": [
    "from functools import cmp_to_key\n",
    "\n",
    "def compare(x, y):\n",
    "    return x - y\n",
    "\n",
    "numbers = [4, 2, 9, 1]\n",
    "sorted_numbers = sorted(numbers, key=cmp_to_key(compare))\n",
    "print(sorted_numbers)"
   ]
  },
  {
   "cell_type": "markdown",
   "metadata": {},
   "source": [
    "# Ordering Methods"
   ]
  },
  {
   "cell_type": "markdown",
   "metadata": {},
   "source": [
    "## Selection Sort\n",
    "\n",
    "###### EN\n",
    "Repeatedly finds the minimum element from the unsorted portion and moves it to the sorted portion.\n",
    "\n",
    "###### BR\n",
    "Encontra repetidamente o elemento mínimo da parte não classificada e o move para a parte classificada.\n",
    "\n",
    "> Time Complexity: O(n²) Space Complexity: O(1)\n",
    "> Stability: Not Stable \n",
    "\n",
    "###### [Example video](https://www.youtube.com/watch?v=g-PGLbMth_g&ab_channel=MichaelSambol)"
   ]
  },
  {
   "cell_type": "code",
   "execution_count": 3,
   "metadata": {},
   "outputs": [
    {
     "name": "stdout",
     "output_type": "stream",
     "text": [
      "[1, 2, 4, 5, 6, 8, 9, 12]\n"
     ]
    }
   ],
   "source": [
    "def selection_sort(arr):\n",
    "    for i in range(len(arr)):\n",
    "        min_idx = i\n",
    "        for j in range(i+1, len(arr)):\n",
    "            if arr[j] < arr[min_idx]:\n",
    "                min_idx = j\n",
    "        arr[i], arr[min_idx] = arr[min_idx], arr[i]\n",
    "    return arr\n",
    "\n",
    "arr_to_sort = [5, 4, 9, 2, 1, 6, 8, 12]\n",
    "arr_sorted = selection_sort(arr_to_sort)\n",
    "print(arr_sorted)"
   ]
  },
  {
   "cell_type": "markdown",
   "metadata": {},
   "source": [
    "## Bubble Sort\n",
    "\n",
    "###### EN\n",
    "Repeatedly steps through the list, compares adjacent elements, and swaps them if they are in the wrong order.\n",
    "\n",
    "###### BR\n",
    "Percorre repetidamente a lista, compara elementos adjacentes e os troca se estiverem na ordem errada.\n",
    "\n",
    "> Time Complexity: O(n²) Space Complexity: O(1)\n",
    "> Stability: Stable \n",
    "\n",
    "###### [Example video](https://www.youtube.com/watch?v=xli_FI7CuzA&ab_channel=MichaelSambol)"
   ]
  },
  {
   "cell_type": "code",
   "execution_count": null,
   "metadata": {},
   "outputs": [],
   "source": [
    "def bubble_sort(arr):\n",
    "    n = len(arr)\n",
    "    for i in range(n):\n",
    "        for j in range(0, n-i-1):\n",
    "            if arr[j] > arr[j + 1]:\n",
    "                arr[j], arr[j+1] = arr[j+1], arr[j]\n",
    "    return arr\n",
    "\n",
    "arr_to_sort = [5, 4, 9, 2, 1, 6, 3, 8]\n",
    "arr_sorted = bubble_sort(arr_to_sort)\n",
    "print(arr_sorted)"
   ]
  },
  {
   "cell_type": "markdown",
   "metadata": {},
   "source": [
    "## Insertion Sort\n",
    "\n",
    "###### EN\n",
    "Builds the sorted array one item at a time, inserting each new item into the correct position within the sorted portion.\n",
    "\n",
    "###### BR\n",
    "Constrói a matriz classificada, um item de cada vez, inserindo cada novo item na posição correta na parte classificada.\n",
    "\n",
    "> Time Complexity: O(n²) Space Complexity: O(1)\n",
    "> Stability: Stable \n",
    "\n",
    "###### [Example video](https://www.youtube.com/watch?v=JU767SDMDvA&ab_channel=MichaelSambol)\n"
   ]
  },
  {
   "cell_type": "code",
   "execution_count": 1,
   "metadata": {},
   "outputs": [
    {
     "name": "stdout",
     "output_type": "stream",
     "text": [
      "[1, 2, 3, 4, 5, 6, 8, 9]\n"
     ]
    }
   ],
   "source": [
    "def insertion_sort(arr):\n",
    "    for i in range(1, len(arr)):\n",
    "        key = arr[i]\n",
    "        j = i - 1\n",
    "        while j >= 0 and key < arr[j]:\n",
    "            arr[j+1] = arr[j]\n",
    "            j -= 1\n",
    "        arr[j+1] = key\n",
    "    return arr\n",
    "\n",
    "arr_to_sort = [5, 4, 9, 2, 1, 6, 3, 8]\n",
    "arr_sorted = insertion_sort(arr_to_sort)\n",
    "print(arr_sorted)"
   ]
  },
  {
   "cell_type": "markdown",
   "metadata": {},
   "source": [
    "## Merge Sort\n",
    "\n",
    "###### EN\n",
    "Divides the array into halves, recursively sorts each half, and then merges the sorted halves.\n",
    "\n",
    "###### BR\n",
    "Divide a matriz em metades, classifica recursivamente cada metade e depois mescla as metades classificadas.\n",
    "\n",
    "> Time Complexity: O(n log n) Space Complexity: O(n)\n",
    "> Stability: Stable \n",
    "\n",
    "###### [example video](https://www.youtube.com/watch?v=4VqmGXwpLqc&ab_channel=MichaelSambol)"
   ]
  },
  {
   "cell_type": "code",
   "execution_count": 7,
   "metadata": {},
   "outputs": [
    {
     "name": "stdout",
     "output_type": "stream",
     "text": [
      "[1, 2, 3, 4, 5, 6, 8, 9]\n"
     ]
    }
   ],
   "source": [
    "def merge_sort(arr):\n",
    "  if len(arr) > 1:\n",
    "    mid = len(arr) // 2\n",
    "    left_half = arr[:mid]\n",
    "    right_half = arr[mid:]\n",
    "\n",
    "    merge_sort(left_half)\n",
    "    merge_sort(right_half)\n",
    "\n",
    "    i = j = k = 0\n",
    "\n",
    "    while i < len(left_half) and j < len(right_half):\n",
    "      if left_half[i] < right_half[j]:\n",
    "        arr[k] = left_half[i]\n",
    "        i += 1\n",
    "      else: \n",
    "        arr[k] = right_half[j]\n",
    "        j += 1\n",
    "      k += 1\n",
    "\n",
    "    while  i < len(left_half):\n",
    "      arr[k] = left_half[i]\n",
    "      i += 1\n",
    "      k += 1\n",
    "\n",
    "    while j < len(right_half):\n",
    "      arr[k] = right_half[j]\n",
    "      j += 1\n",
    "      k += 1\n",
    "\n",
    "  return arr\n",
    "\n",
    "arr_to_sort = [5, 4, 9, 2, 1, 6, 3, 8]\n",
    "arr_sorted = merge_sort(arr_to_sort)\n",
    "print(arr_sorted)"
   ]
  },
  {
   "cell_type": "markdown",
   "metadata": {},
   "source": [
    "## Quick Sort\n",
    "\n",
    "###### EN\n",
    "Selects a pivot element, partitions the array around the pivot, and recursively sorts the partitions.\n",
    "\n",
    "###### BR\n",
    "Seleciona um elemento pivô, particiona a matriz em torno do pivô e classifica as partições recursivamente.\n",
    "\n",
    "> Time Complexity: O(n log n) on average Space Complexity: O(log n)\n",
    "> Stability: Not Stable \n",
    "\n",
    "###### [Example video](https://www.youtube.com/watch?v=Hoixgm4-P4M&ab_channel=MichaelSambol)"
   ]
  },
  {
   "cell_type": "code",
   "execution_count": 8,
   "metadata": {},
   "outputs": [
    {
     "name": "stdout",
     "output_type": "stream",
     "text": [
      "[1, 2, 3, 4, 5, 6, 8, 9]\n"
     ]
    }
   ],
   "source": [
    "def quick_sort(arr):\n",
    "  if len(arr) <= 1:\n",
    "    return arr\n",
    "  else:\n",
    "    pivot = arr[len(arr) // 2]\n",
    "    left = [x for x in arr if x < pivot]\n",
    "    middle = [x for x in arr if x == pivot]\n",
    "    right = [x for x in arr if x > pivot]\n",
    "    return quick_sort(left) + middle + quick_sort(right)\n",
    "  \n",
    "arr_to_sort = [5, 4, 9, 2, 1, 6, 3, 8]\n",
    "arr_sorted = quick_sort(arr_to_sort)\n",
    "print(arr_sorted)"
   ]
  },
  {
   "cell_type": "markdown",
   "metadata": {},
   "source": [
    "## Heap Sort\n",
    "\n",
    "###### EN\n",
    "Builds a max heap from the array, then repeatedly extracts the maximum element and rebuilds the heap.\n",
    "\n",
    "###### BR\n",
    "Constrói um heap máximo a partir da matriz, depois extrai repetidamente o elemento máximo e reconstrói o heap.\n",
    "\n",
    "> Time Complexity: O(n log n) on average Space Complexity: O(1)\n",
    "> Stability: Not Stable \n",
    "\n",
    "###### [Example video](https://www.youtube.com/watch?v=2DmK_H7IdTo&ab_channel=MichaelSambol)\n"
   ]
  },
  {
   "cell_type": "code",
   "execution_count": 1,
   "metadata": {},
   "outputs": [
    {
     "name": "stdout",
     "output_type": "stream",
     "text": [
      "[1, 2, 3, 4, 5, 6, 8, 9]\n"
     ]
    }
   ],
   "source": [
    "def heapify(arr, n, i):\n",
    "  largest = i\n",
    "  l = 2 * i + 1\n",
    "  r = 2 * i + 2\n",
    "  if l < n and arr[i] < arr[l]:\n",
    "    largest = l\n",
    "  if r < n and arr[largest] < arr[r]:\n",
    "    largest = r\n",
    "  if largest !=i:\n",
    "    arr[i], arr[largest] = arr[largest], arr[i]\n",
    "    heapify(arr, n, largest)\n",
    "\n",
    "def heap_sort(arr):\n",
    "  n = len(arr)\n",
    "  for i in range(n//2 - 1, -1, -1 ):\n",
    "    heapify(arr, n, i)\n",
    "  for i in range(n-1, 0, -1):\n",
    "    arr[i], arr[0] = arr[0], arr[i]\n",
    "    heapify(arr, i, 0)\n",
    "  return arr\n",
    "\n",
    "arr_to_sort = [5, 4, 9, 2, 1, 6, 3, 8]\n",
    "arr_sorted = heap_sort(arr_to_sort)\n",
    "print(arr_sorted)"
   ]
  },
  {
   "cell_type": "markdown",
   "metadata": {},
   "source": [
    "## Counting Sort\n",
    "\n",
    "###### EN\n",
    "Counts the occurrences of each element, then uses those counts to place elements into the correct position.\n",
    "\n",
    "###### BR\n",
    "Conta as ocorrências de cada elemento e usa essas contagens para colocar os elementos na posição correta.\n",
    "\n",
    "> Time Complexity: O(n + k) on average Space Complexity: O(k)\n",
    "> Stability: Stable \n",
    "\n",
    "###### [Example video](https://www.youtube.com/watch?v=EItdcGhSLf4&ab_channel=theteachr)"
   ]
  },
  {
   "cell_type": "code",
   "execution_count": 1,
   "metadata": {},
   "outputs": [
    {
     "name": "stdout",
     "output_type": "stream",
     "text": [
      "[1, 2, 3, 4, 5, 6, 8, 9]\n"
     ]
    }
   ],
   "source": [
    "def counting_sort(arr):\n",
    "  max_val = max(arr)\n",
    "  count = [0] * (max_val + 1)\n",
    "  for num in arr:\n",
    "    count[num] += 1\n",
    "  sorted_arr = []\n",
    "  for i, cnt in enumerate(count):\n",
    "    sorted_arr.extend([i] * cnt)\n",
    "  return sorted_arr\n",
    "\n",
    "arr_to_sort = [5, 4, 9, 2, 1, 6, 3, 8]\n",
    "arr_sorted = counting_sort(arr_to_sort)\n",
    "print(arr_sorted)"
   ]
  }
 ],
 "metadata": {
  "kernelspec": {
   "display_name": "Python 3",
   "language": "python",
   "name": "python3"
  },
  "language_info": {
   "codemirror_mode": {
    "name": "ipython",
    "version": 3
   },
   "file_extension": ".py",
   "mimetype": "text/x-python",
   "name": "python",
   "nbconvert_exporter": "python",
   "pygments_lexer": "ipython3",
   "version": "3.12.3"
  }
 },
 "nbformat": 4,
 "nbformat_minor": 2
}
