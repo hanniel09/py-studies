{
 "cells": [
  {
   "cell_type": "markdown",
   "metadata": {},
   "source": [
    "# Ordering  & Sorting Methods Python Reference"
   ]
  },
  {
   "cell_type": "markdown",
   "metadata": {},
   "source": [
    "# Sorting Lists\n",
    "\n",
    "##### Method sort"
   ]
  },
  {
   "cell_type": "code",
   "execution_count": 2,
   "metadata": {},
   "outputs": [
    {
     "name": "stdout",
     "output_type": "stream",
     "text": [
      "[1, 2, 4, 9]\n"
     ]
    }
   ],
   "source": [
    "numbers = [4, 2, 9, 1]\n",
    "numbers.sort()\n",
    "print(numbers)"
   ]
  },
  {
   "cell_type": "markdown",
   "metadata": {},
   "source": [
    "##### Sorted Function"
   ]
  },
  {
   "cell_type": "code",
   "execution_count": 1,
   "metadata": {},
   "outputs": [
    {
     "name": "stdout",
     "output_type": "stream",
     "text": [
      "[0, 1, 2, 4, 5, 8, 10]\n"
     ]
    }
   ],
   "source": [
    "numbers = [8, 4, 5, 1, 2, 0, 10]\n",
    "numbers_sorted = sorted(numbers)\n",
    "print(numbers_sorted)"
   ]
  },
  {
   "cell_type": "markdown",
   "metadata": {},
   "source": [
    "##### Using Key Parameter\n",
    "\n",
    "_The key parameter allows you to pass a function that extracts a comparison key from each list element._"
   ]
  },
  {
   "cell_type": "code",
   "execution_count": 2,
   "metadata": {},
   "outputs": [
    {
     "name": "stdout",
     "output_type": "stream",
     "text": [
      "['apple', 'banana', 'cherry']\n"
     ]
    }
   ],
   "source": [
    "words = [\"banana\", \"apple\", \"cherry\"]\n",
    "words.sort(key=len)\n",
    "print(words)"
   ]
  },
  {
   "cell_type": "markdown",
   "metadata": {},
   "source": [
    "## Sorting Tuples\n",
    "\n",
    "##### Sorting by Multiple Criteria"
   ]
  },
  {
   "cell_type": "code",
   "execution_count": 3,
   "metadata": {},
   "outputs": [
    {
     "name": "stdout",
     "output_type": "stream",
     "text": [
      "[('Bob', 20), ('Charlie', 23), ('Alice', 25)]\n"
     ]
    }
   ],
   "source": [
    "students = [(\"Alice\", 25), (\"Bob\", 20), (\"Charlie\", 23)]\n",
    "students.sort(key=lambda student: student[1])\n",
    "print(students)"
   ]
  },
  {
   "cell_type": "markdown",
   "metadata": {},
   "source": [
    "## Sorting Dictionaries\n",
    "\n",
    "##### Sorting by Keys"
   ]
  },
  {
   "cell_type": "code",
   "execution_count": 1,
   "metadata": {},
   "outputs": [
    {
     "name": "stdout",
     "output_type": "stream",
     "text": [
      "['apple', 'banana', 'pear']\n"
     ]
    }
   ],
   "source": [
    "my_dict = {'banana': 3, 'apple': 4, 'pear': 1}\n",
    "sorted_keys = sorted(my_dict.keys())\n",
    "print(sorted_keys)"
   ]
  },
  {
   "cell_type": "markdown",
   "metadata": {},
   "source": [
    "##### Sorting by Values"
   ]
  },
  {
   "cell_type": "code",
   "execution_count": 2,
   "metadata": {},
   "outputs": [
    {
     "name": "stdout",
     "output_type": "stream",
     "text": [
      "[('pear', 1), ('banana', 3), ('apple', 4)]\n"
     ]
    }
   ],
   "source": [
    "my_dict = {'banana': 3, 'apple': 4, 'pear': 1}\n",
    "sorted_items = sorted(my_dict.items(), key=lambda item: item[1])\n",
    "print(sorted_items)"
   ]
  },
  {
   "cell_type": "markdown",
   "metadata": {},
   "source": [
    "## Advanced Sorting\n",
    "\n",
    "##### Using operator Module"
   ]
  },
  {
   "cell_type": "code",
   "execution_count": 3,
   "metadata": {},
   "outputs": [
    {
     "name": "stdout",
     "output_type": "stream",
     "text": [
      "[('Bob', 20), ('Charlie', 23), ('Alice', 25)]\n"
     ]
    }
   ],
   "source": [
    "from operator import itemgetter\n",
    "\n",
    "students = [('Alice', 25), ('Bob', 20), ('Charlie', 23)]\n",
    "students_sorted = sorted(students, key=itemgetter(1))\n",
    "print(students_sorted)"
   ]
  },
  {
   "cell_type": "markdown",
   "metadata": {},
   "source": [
    "##### Using functools.cmp_to_key for Complex Sorting"
   ]
  },
  {
   "cell_type": "code",
   "execution_count": 4,
   "metadata": {},
   "outputs": [
    {
     "name": "stdout",
     "output_type": "stream",
     "text": [
      "[1, 2, 4, 9]\n"
     ]
    }
   ],
   "source": [
    "from functools import cmp_to_key\n",
    "\n",
    "def compare(x, y):\n",
    "    return x - y\n",
    "\n",
    "numbers = [4, 2, 9, 1]\n",
    "sorted_numbers = sorted(numbers, key=cmp_to_key(compare))\n",
    "print(sorted_numbers)"
   ]
  },
  {
   "cell_type": "markdown",
   "metadata": {},
   "source": [
    "# Ordering Methods"
   ]
  },
  {
   "cell_type": "markdown",
   "metadata": {},
   "source": [
    "## Selection Sort\n",
    "\n",
    "###### EN\n",
    "Repeatedly finds the minimum element from the unsorted portion and moves it to the sorted portion.\n",
    "\n",
    "###### BR\n",
    "Encontra repetidamente o elemento mínimo da parte não classificada e o move para a parte classificada.\n",
    "\n",
    "> Time Complexity: O(n²) Space Complexity: O(1)\n",
    "> Stability: Not Stable \n",
    "\n",
    "###### [Example video](https://www.youtube.com/watch?v=g-PGLbMth_g&ab_channel=MichaelSambol)"
   ]
  },
  {
   "cell_type": "code",
   "execution_count": 2,
   "metadata": {},
   "outputs": [
    {
     "name": "stdout",
     "output_type": "stream",
     "text": [
      "[1, 2, 4, 5, 6, 9]\n"
     ]
    }
   ],
   "source": [
    "def selection_sort(arr):\n",
    "    for i in range(len(arr)):\n",
    "        min_idx = i\n",
    "        for j in range(i+1, len(arr)):\n",
    "            if arr[j] < arr[min_idx]:\n",
    "                min_idx = j\n",
    "        arr[i], arr[min_idx] = arr[min_idx], arr[i]\n",
    "    return arr\n",
    "\n",
    "arr_to_sort = [5, 4, 9, 2, 1, 6]\n",
    "arr_sorted = selection_sort(arr_to_sort)\n",
    "print(arr_sorted)"
   ]
  },
  {
   "cell_type": "markdown",
   "metadata": {},
   "source": [
    "## Bubble Sort\n",
    "\n",
    "###### EN\n",
    "Repeatedly steps through the list, compares adjacent elements, and swaps them if they are in the wrong order.\n",
    "\n",
    "###### BR\n",
    "Percorre repetidamente a lista, compara elementos adjacentes e os troca se estiverem na ordem errada.\n",
    "\n",
    "> Time Complexity: O(n²) Space Complexity: O(1)\n",
    "> Stability: Stable \n",
    "\n",
    "###### [Example video](https://www.youtube.com/watch?v=xli_FI7CuzA&ab_channel=MichaelSambol)"
   ]
  },
  {
   "cell_type": "code",
   "execution_count": 1,
   "metadata": {},
   "outputs": [
    {
     "name": "stdout",
     "output_type": "stream",
     "text": [
      "[1, 2, 3, 4, 5, 6, 8, 9]\n"
     ]
    }
   ],
   "source": [
    "def bubble_sort(arr):\n",
    "    n = len(arr)\n",
    "    for i in range(n):\n",
    "        for j in range(0, n-i-1):\n",
    "            if arr[j] > arr[j + 1]:\n",
    "                arr[j], arr[j+1] = arr[j+1], arr[j]\n",
    "    return arr\n",
    "\n",
    "arr_to_sort = [5, 4, 9, 2, 1, 6, 3, 8]\n",
    "arr_sorted = bubble_sort(arr_to_sort)\n",
    "print(arr_sorted)"
   ]
  },
  {
   "cell_type": "markdown",
   "metadata": {},
   "source": [
    "## Insertion Sort\n",
    "\n",
    "###### EN\n",
    "Builds the sorted array one item at a time, inserting each new item into the correct position within the sorted portion.\n",
    "\n",
    "###### BR\n",
    "Constrói a matriz classificada, um item de cada vez, inserindo cada novo item na posição correta na parte classificada.\n",
    "\n",
    "> Time Complexity: O(n²) Space Complexity: O(1)\n",
    "> Stability: Stable \n",
    "\n",
    "###### [Example video](https://www.youtube.com/watch?v=JU767SDMDvA&ab_channel=MichaelSambol)\n"
   ]
  },
  {
   "cell_type": "code",
   "execution_count": 1,
   "metadata": {},
   "outputs": [
    {
     "name": "stdout",
     "output_type": "stream",
     "text": [
      "[1, 2, 3, 4, 5, 6, 8, 9]\n"
     ]
    }
   ],
   "source": [
    "def insertion_sort(arr):\n",
    "    for i in range(1, len(arr)):\n",
    "        key = arr[i]\n",
    "        j = i - 1\n",
    "        while j >= 0 and key < arr[j]:\n",
    "            arr[j+1] = arr[j]\n",
    "            j -= 1\n",
    "        arr[j+1] = key\n",
    "    return arr\n",
    "\n",
    "arr_to_sort = [5, 4, 9, 2, 1, 6, 3, 8]\n",
    "arr_sorted = insertion_sort(arr_to_sort)\n",
    "print(arr_sorted)"
   ]
  }
 ],
 "metadata": {
  "kernelspec": {
   "display_name": "Python 3",
   "language": "python",
   "name": "python3"
  },
  "language_info": {
   "codemirror_mode": {
    "name": "ipython",
    "version": 3
   },
   "file_extension": ".py",
   "mimetype": "text/x-python",
   "name": "python",
   "nbconvert_exporter": "python",
   "pygments_lexer": "ipython3",
   "version": "3.12.3"
  }
 },
 "nbformat": 4,
 "nbformat_minor": 2
}
