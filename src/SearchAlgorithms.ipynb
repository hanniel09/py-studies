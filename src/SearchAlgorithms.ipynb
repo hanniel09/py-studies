{
 "cells": [
  {
   "cell_type": "markdown",
   "metadata": {},
   "source": [
    "# Search Algorithms with Python"
   ]
  },
  {
   "cell_type": "markdown",
   "metadata": {},
   "source": [
    "## Linear Search\n",
    "\n",
    "\n"
   ]
  },
  {
   "cell_type": "markdown",
   "metadata": {},
   "source": [
    "\n",
    "###### EN\n",
    "> Linear search is the simplest search algorithm. <br/> \n",
    "It checks each element of the list until it finds the target element or reaches the end of the list.\n",
    "\n",
    "###### BR\n",
    "> A pesquisa linear é o algoritmo de pesquisa mais simples. <br/>\n",
    "Ele verifica cada elemento da lista até encontrar o elemento alvo ou chegar ao final da lista.\n"
   ]
  },
  {
   "cell_type": "code",
   "execution_count": 2,
   "metadata": {},
   "outputs": [
    {
     "name": "stdout",
     "output_type": "stream",
     "text": [
      "4\n",
      "-1\n"
     ]
    }
   ],
   "source": [
    "def linear_search(arr, target):\n",
    "    for index, element in enumerate(arr):\n",
    "        if element == target:\n",
    "            return index\n",
    "    return -1\n",
    "\n",
    "\n",
    "arr = [1, 2, 3, 4, 5]\n",
    "print(linear_search(arr, 5))\n",
    "print(linear_search(arr, 7))"
   ]
  },
  {
   "cell_type": "markdown",
   "metadata": {},
   "source": [
    "## Binary Search"
   ]
  },
  {
   "cell_type": "markdown",
   "metadata": {},
   "source": [
    "###### EN\n",
    "> Binary search is a more efficient algorithm that works on sorted lists. <br/>\n",
    "It repeatedly divides the search interval in half until the target element is found or the interval is empty. \n",
    "\n",
    "###### BR\n",
    "> A pesquisa binária é um algoritmo mais eficiente que funciona em listas ordenadas. <br/>\n",
    "Ele divide repetidamente o intervalo de pesquisa pela metade até que o elemento de destino seja encontrado ou o intervalo esteja vazio."
   ]
  },
  {
   "cell_type": "code",
   "execution_count": 6,
   "metadata": {},
   "outputs": [
    {
     "name": "stdout",
     "output_type": "stream",
     "text": [
      "2\n",
      "-1\n"
     ]
    }
   ],
   "source": [
    "def binary_search(arr, target):\n",
    "    left, right = 0, len(arr) - 1\n",
    "    while left <= right:\n",
    "        mid = (left + right) // 2\n",
    "        if arr[mid] == target:\n",
    "            return mid\n",
    "        elif arr[mid] < target:\n",
    "            left = mid + 1\n",
    "        else:\n",
    "            right = mid - 1\n",
    "    return -1\n",
    "\n",
    "arr = [1, 2, 3, 4, 5]\n",
    "\n",
    "print(binary_search(arr, 3))  \n",
    "print(binary_search(arr, 6))"
   ]
  },
  {
   "cell_type": "markdown",
   "metadata": {},
   "source": [
    "## Depth-First Search (DFS)"
   ]
  },
  {
   "cell_type": "markdown",
   "metadata": {},
   "source": [
    "#### EN\n",
    "> Depth-First Search is a graph traversal algorithm that starts at the root (or an arbitrary node) <br/> and explores as far as possible along each branch before backtracking.\n",
    "\n",
    "#### BR\n",
    "> A pesquisa em profundidade é um algoritmo de passagem de gráfico que começa na raiz (ou em um nó arbitrário)  <br/> \n",
    "e explora o máximo possível ao longo de cada ramificação antes de retroceder."
   ]
  },
  {
   "cell_type": "code",
   "execution_count": 1,
   "metadata": {},
   "outputs": [
    {
     "name": "stdout",
     "output_type": "stream",
     "text": [
      "A\n",
      "B\n",
      "D\n",
      "E\n",
      "F\n",
      "C\n"
     ]
    },
    {
     "data": {
      "text/plain": [
       "{'A', 'B', 'C', 'D', 'E', 'F'}"
      ]
     },
     "execution_count": 1,
     "metadata": {},
     "output_type": "execute_result"
    }
   ],
   "source": [
    "def dfs(graph, start, visited=None):\n",
    "    if visited is None:\n",
    "        visited = set()\n",
    "    visited.add(start)\n",
    "    print(start)\n",
    "    for neighbor in graph[start]:\n",
    "        if neighbor not in visited:\n",
    "            dfs(graph, neighbor, visited)\n",
    "    return visited\n",
    "\n",
    "# Creating Graph\n",
    "\n",
    "graph = {\n",
    "    'A': ['B', 'C'],\n",
    "    'B': ['A', 'D', 'E'],\n",
    "    'C': ['A', 'F'],\n",
    "    'D': ['B'],\n",
    "    'E': ['B','F'],\n",
    "    'F': ['C', 'E']\n",
    "}\n",
    "\n",
    "dfs(graph, 'A')"
   ]
  }
 ],
 "metadata": {
  "kernelspec": {
   "display_name": "Python 3",
   "language": "python",
   "name": "python3"
  },
  "language_info": {
   "codemirror_mode": {
    "name": "ipython",
    "version": 3
   },
   "file_extension": ".py",
   "mimetype": "text/x-python",
   "name": "python",
   "nbconvert_exporter": "python",
   "pygments_lexer": "ipython3",
   "version": "3.12.3"
  }
 },
 "nbformat": 4,
 "nbformat_minor": 2
}
