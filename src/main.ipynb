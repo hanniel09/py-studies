{
 "cells": [
  {
   "cell_type": "markdown",
   "metadata": {},
   "source": [
    "# Python Studies Basic to avanced"
   ]
  },
  {
   "cell_type": "markdown",
   "metadata": {
    "tags": [
     "parameters"
    ]
   },
   "source": [
    "\n",
    "- ## Primitive Types & Variables\n"
   ]
  },
  {
   "cell_type": "code",
   "execution_count": 1,
   "metadata": {},
   "outputs": [
    {
     "name": "stdout",
     "output_type": "stream",
     "text": [
      "None\n"
     ]
    }
   ],
   "source": [
    "#int\n",
    "numInt = 1\n",
    "\n",
    "#float\n",
    "numFloat = 3.14\n",
    "\n",
    "#boolean\n",
    "trueOrFalse = True\n",
    "\n",
    "#str\n",
    "string = \"Code\"\n",
    "\n",
    "#null\n",
    "\n",
    "null = None\n",
    "\n",
    "print(null)"
   ]
  },
  {
   "cell_type": "markdown",
   "metadata": {},
   "source": [
    "- ## Conditionals"
   ]
  },
  {
   "cell_type": "code",
   "execution_count": 3,
   "metadata": {},
   "outputs": [
    {
     "name": "stdout",
     "output_type": "stream",
     "text": [
      "number is negative\n"
     ]
    }
   ],
   "source": [
    "a = int(input(\"Send a number:\"))\n",
    "\n",
    "if(a > 0):\n",
    "    print(a)\n",
    "elif(a < 0):\n",
    "    print(\"number is negative\")\n",
    "else:\n",
    "    print(\"number is equals to zero\")"
   ]
  },
  {
   "cell_type": "markdown",
   "metadata": {},
   "source": [
    "- ## Repeat Loop"
   ]
  },
  {
   "cell_type": "markdown",
   "metadata": {},
   "source": [
    "- #### For"
   ]
  },
  {
   "cell_type": "code",
   "execution_count": null,
   "metadata": {},
   "outputs": [],
   "source": []
  },
  {
   "cell_type": "markdown",
   "metadata": {},
   "source": [
    "- #### While"
   ]
  },
  {
   "cell_type": "code",
   "execution_count": null,
   "metadata": {},
   "outputs": [],
   "source": []
  },
  {
   "cell_type": "code",
   "execution_count": 1,
   "metadata": {},
   "outputs": [
    {
     "name": "stdout",
     "output_type": "stream",
     "text": [
      "output: 2\n"
     ]
    }
   ],
   "source": [
    "def sum(a, b):\n",
    "    if(a == 0 or b == 0):\n",
    "        return 0\n",
    "    else: \n",
    "        return a + b\n",
    "a = int(input(\"Send a first number: \"))\n",
    "b = int(input(\"Send a second number: \"))\n",
    " \n",
    "print(sum(a, b))"
   ]
  }
 ],
 "metadata": {
  "kernelspec": {
   "display_name": "Python 3",
   "language": "python",
   "name": "python3"
  },
  "language_info": {
   "codemirror_mode": {
    "name": "ipython",
    "version": 3
   },
   "file_extension": ".py",
   "mimetype": "text/x-python",
   "name": "python",
   "nbconvert_exporter": "python",
   "pygments_lexer": "ipython3",
   "version": "3.12.3"
  }
 },
 "nbformat": 4,
 "nbformat_minor": 2
}
