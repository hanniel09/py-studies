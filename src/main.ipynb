{
 "cells": [
  {
   "cell_type": "markdown",
   "metadata": {},
   "source": [
    "# Python Studies Basic to avanced"
   ]
  },
  {
   "cell_type": "markdown",
   "metadata": {
    "tags": [
     "parameters"
    ]
   },
   "source": [
    "\n",
    "- ## Primitive Types & Variables\n"
   ]
  },
  {
   "cell_type": "code",
   "execution_count": 1,
   "metadata": {},
   "outputs": [
    {
     "name": "stdout",
     "output_type": "stream",
     "text": [
      "None\n"
     ]
    }
   ],
   "source": [
    "#int\n",
    "numInt = 1\n",
    "\n",
    "#float\n",
    "numFloat = 3.14\n",
    "\n",
    "#boolean\n",
    "trueOrFalse = True\n",
    "\n",
    "#str\n",
    "string = \"Code\"\n",
    "\n",
    "#null\n",
    "\n",
    "null = None\n",
    "\n",
    "print(null)"
   ]
  },
  {
   "cell_type": "markdown",
   "metadata": {},
   "source": [
    "- ## Conditionals"
   ]
  },
  {
   "cell_type": "code",
   "execution_count": 1,
   "metadata": {},
   "outputs": [
    {
     "name": "stdout",
     "output_type": "stream",
     "text": [
      "1\n"
     ]
    }
   ],
   "source": [
    "a = int(input(\"Send a number:\"))\n",
    "\n",
    "if(a > 0):\n",
    "    print(a)\n",
    "elif(a < 0):\n",
    "    print(\"number is negative\")\n",
    "else:\n",
    "    print(\"number is equals to zero\")"
   ]
  },
  {
   "cell_type": "markdown",
   "metadata": {},
   "source": [
    "- ## Repeat Loop"
   ]
  },
  {
   "cell_type": "markdown",
   "metadata": {},
   "source": [
    "- #### For"
   ]
  },
  {
   "cell_type": "code",
   "execution_count": 5,
   "metadata": {},
   "outputs": [
    {
     "name": "stdout",
     "output_type": "stream",
     "text": [
      "Microsoft\n",
      "Amazon\n",
      "Google\n"
     ]
    }
   ],
   "source": [
    "bigTechs = [\"Microsoft\",\"Amazon\",\"Google\"]\n",
    "\n",
    "for bigTech in bigTechs:\n",
    "    print(bigTech)"
   ]
  },
  {
   "cell_type": "code",
   "execution_count": 2,
   "metadata": {},
   "outputs": [
    {
     "name": "stdout",
     "output_type": "stream",
     "text": [
      "0\n",
      "1\n",
      "2\n",
      "3\n",
      "4\n"
     ]
    }
   ],
   "source": [
    "for i in range(5):\n",
    "    print(i)"
   ]
  },
  {
   "cell_type": "markdown",
   "metadata": {},
   "source": [
    "- #### While"
   ]
  },
  {
   "cell_type": "code",
   "execution_count": 6,
   "metadata": {},
   "outputs": [
    {
     "name": "stdout",
     "output_type": "stream",
     "text": [
      "0\n",
      "1\n",
      "2\n",
      "3\n",
      "4\n"
     ]
    }
   ],
   "source": [
    "count = 0\n",
    "while count < 5:\n",
    "    print(count)\n",
    "    count+=1"
   ]
  },
  {
   "cell_type": "code",
   "execution_count": 8,
   "metadata": {},
   "outputs": [
    {
     "name": "stdout",
     "output_type": "stream",
     "text": [
      "You entered 15, which is greater than 10.\n"
     ]
    }
   ],
   "source": [
    "while True:\n",
    "    number = int(input(\"Send a number greater than 10: \"))\n",
    "    if number > 10:\n",
    "        break\n",
    "    print(\"Number is not greater than 10, try again.\")\n",
    "\n",
    "print(f\"You entered {number}, which is greater than 10.\")"
   ]
  },
  {
   "cell_type": "markdown",
   "metadata": {},
   "source": [
    "- ## Functions"
   ]
  },
  {
   "cell_type": "code",
   "execution_count": 9,
   "metadata": {},
   "outputs": [
    {
     "name": "stdout",
     "output_type": "stream",
     "text": [
      "Hello, Hanniel\n"
     ]
    }
   ],
   "source": [
    "def greet(name):\n",
    "    return f\"Hello, {name}\"\n",
    "\n",
    "print(greet(\"Hanniel\"))"
   ]
  },
  {
   "cell_type": "code",
   "execution_count": 1,
   "metadata": {},
   "outputs": [
    {
     "name": "stdout",
     "output_type": "stream",
     "text": [
      "output: 2\n"
     ]
    }
   ],
   "source": [
    "def sum(a, b):\n",
    "    if(a == 0 or b == 0):\n",
    "        return 0\n",
    "    else: \n",
    "        return a + b\n",
    "a = int(input(\"Send a first number: \"))\n",
    "b = int(input(\"Send a second number: \"))\n",
    " \n",
    "print(sum(a, b))"
   ]
  },
  {
   "cell_type": "markdown",
   "metadata": {},
   "source": [
    "- ## Lists"
   ]
  },
  {
   "cell_type": "code",
   "execution_count": 22,
   "metadata": {},
   "outputs": [
    {
     "name": "stdout",
     "output_type": "stream",
     "text": [
      "1\n",
      "[1, 2, 3]\n",
      "[1, 2, 3, 4, 5, 6]\n",
      "[1, 2, 4, 5, 6]\n",
      "[1, 4, 16, 25, 36]\n"
     ]
    }
   ],
   "source": [
    "numbers = [1, 2, 3, 4, 5]\n",
    "\n",
    "# Accessing elements\n",
    "\n",
    "print(numbers[0])\n",
    "\n",
    "# Slicing\n",
    "print(numbers[0:3])\n",
    "\n",
    "# Adding elements\n",
    "numbers.append(6)\n",
    "print(numbers)\n",
    "\n",
    "# Remove Elements\n",
    "numbers.remove(3)\n",
    "print(numbers)\n",
    "\n",
    "# List comprehension\n",
    "squares = [x**2 for x in numbers]\n",
    "print(squares)"
   ]
  },
  {
   "cell_type": "markdown",
   "metadata": {},
   "source": [
    "- ## Dictionaries"
   ]
  },
  {
   "cell_type": "code",
   "execution_count": 28,
   "metadata": {},
   "outputs": [
    {
     "name": "stdout",
     "output_type": "stream",
     "text": [
      "18\n",
      "{'name': 'Hanniel', 'age': 18, 'city': 'New York', 'email': 'hanniel@gmail.com'}\n",
      "{'name': 'Hanniel', 'age': 18, 'email': 'hanniel@gmail.com'}\n"
     ]
    }
   ],
   "source": [
    "Persons = {\n",
    "    \"name\":\"Hanniel\", \n",
    "    \"age\": 18, \n",
    "    \"city\": \"New York\"\n",
    "    }\n",
    "\n",
    "# Accessing Values\n",
    "print(Persons[\"age\"])\n",
    "\n",
    "# Adding a new key-value pair\n",
    "Persons[\"email\"] = \"hanniel@gmail.com\"\n",
    "print(Persons)\n",
    "\n",
    "# Removing a key-value pair \n",
    "del Persons[\"city\"]\n",
    "print(Persons)"
   ]
  },
  {
   "cell_type": "markdown",
   "metadata": {},
   "source": [
    "- ## Tuples"
   ]
  },
  {
   "cell_type": "code",
   "execution_count": 29,
   "metadata": {},
   "outputs": [
    {
     "name": "stdout",
     "output_type": "stream",
     "text": [
      "10\n"
     ]
    }
   ],
   "source": [
    "# Creating a tuple \n",
    "point = (10, 20)\n",
    "\n",
    "# Accessing Elements\n",
    "print(point[0])\n",
    "\n",
    "# Tuples are immutable, so you cannot change their values"
   ]
  },
  {
   "cell_type": "markdown",
   "metadata": {},
   "source": [
    "- ## Sets"
   ]
  },
  {
   "cell_type": "code",
   "execution_count": 32,
   "metadata": {},
   "outputs": [
    {
     "name": "stdout",
     "output_type": "stream",
     "text": [
      "{1, 2, 3, 4}\n"
     ]
    }
   ],
   "source": [
    "unique_numbers = {1, 2, 3, 4, 5}\n",
    "\n",
    "# Adding an element\n",
    "unique_numbers.add(3)\n",
    "\n",
    "# Removing an element\n",
    "unique_numbers.remove(5)\n",
    "\n",
    "print(unique_numbers)\n",
    "\n",
    "# Sets are unordered and do not allow duplicate elements\n"
   ]
  },
  {
   "cell_type": "markdown",
   "metadata": {},
   "source": [
    "- ## Importing Math Modules"
   ]
  },
  {
   "cell_type": "code",
   "execution_count": 35,
   "metadata": {},
   "outputs": [
    {
     "name": "stdout",
     "output_type": "stream",
     "text": [
      "4.0\n",
      "3.141592653589793\n"
     ]
    }
   ],
   "source": [
    "import math\n",
    "\n",
    "print(math.sqrt(16))\n",
    "print(math.pi)"
   ]
  },
  {
   "cell_type": "markdown",
   "metadata": {},
   "source": [
    "- ## Exception Handling"
   ]
  },
  {
   "cell_type": "code",
   "execution_count": 36,
   "metadata": {},
   "outputs": [
    {
     "name": "stdout",
     "output_type": "stream",
     "text": [
      "You cannot divide by zero!\n",
      "This will execute no matter what\n"
     ]
    }
   ],
   "source": [
    "try:\n",
    "    result = 10 / 0\n",
    "except ZeroDivisionError:\n",
    "    print(\"You cannot divide by zero!\")\n",
    "finally:\n",
    "    print(\"This will execute no matter what\") "
   ]
  },
  {
   "cell_type": "markdown",
   "metadata": {},
   "source": [
    "- ## Classes and Objects"
   ]
  },
  {
   "cell_type": "code",
   "execution_count": 37,
   "metadata": {},
   "outputs": [
    {
     "name": "stdout",
     "output_type": "stream",
     "text": [
      "Buddy says woof!\n"
     ]
    }
   ],
   "source": [
    "class Dog:\n",
    "    def __init__(self, name, age):\n",
    "        self.name = name\n",
    "        self.age = age\n",
    "\n",
    "    def bark(self):\n",
    "        return f\"{self.name} says woof!\"\n",
    "\n",
    "# Creating an object \n",
    "my_dog = Dog(\"Buddy\", 3)\n",
    "print(my_dog.bark())"
   ]
  },
  {
   "cell_type": "markdown",
   "metadata": {},
   "source": [
    "- # String and Methods"
   ]
  },
  {
   "cell_type": "markdown",
   "metadata": {},
   "source": [
    "- ### Case Conversion"
   ]
  },
  {
   "cell_type": "code",
   "execution_count": 38,
   "metadata": {},
   "outputs": [
    {
     "name": "stdout",
     "output_type": "stream",
     "text": [
      "HELLO WORLD\n",
      "hello world\n",
      "Hello world\n",
      "Hello World\n",
      "hELLO wORLD\n"
     ]
    }
   ],
   "source": [
    "str = \"Hello World\"\n",
    "print(str.upper())\n",
    "\n",
    "print(str.lower())\n",
    "\n",
    "print(str.capitalize())\n",
    "\n",
    "print(str.title())\n",
    "\n",
    "print(str.swapcase())"
   ]
  },
  {
   "cell_type": "markdown",
   "metadata": {},
   "source": [
    "- ### Searching and Replacing"
   ]
  },
  {
   "cell_type": "markdown",
   "metadata": {},
   "source": [
    "- find(sub): Returns the lowest index where the substring \"sub\" is found.\n",
    "\n",
    "- rfind(sub): Returns the highest index where the substring sub is found.\n",
    "\n",
    "- index(sub): Like find(), but raises a ValueError if the substring is not found.\n",
    "\n",
    "- rindex(sub): Like rfind(), but raises a ValueError if the substring is not found.\n",
    "\n",
    "- replace(sub): str.replace(old, new): Replaces all occurrences of the substring old with new"
   ]
  },
  {
   "cell_type": "code",
   "execution_count": 39,
   "metadata": {},
   "outputs": [
    {
     "name": "stdout",
     "output_type": "stream",
     "text": [
      "4\n",
      "7\n",
      "6\n",
      "hello there\n"
     ]
    }
   ],
   "source": [
    "str = \"hello world\"\n",
    "\n",
    "print(str.find(\"o\"))\n",
    "\n",
    "print(str.rfind(\"o\"))\n",
    "\n",
    "print(str.index(\"world\"))\n",
    "\n",
    "print(str.replace(\"world\", \"there\"))"
   ]
  }
 ],
 "metadata": {
  "kernelspec": {
   "display_name": "Python 3",
   "language": "python",
   "name": "python3"
  },
  "language_info": {
   "codemirror_mode": {
    "name": "ipython",
    "version": 3
   },
   "file_extension": ".py",
   "mimetype": "text/x-python",
   "name": "python",
   "nbconvert_exporter": "python",
   "pygments_lexer": "ipython3",
   "version": "3.10.13"
  }
 },
 "nbformat": 4,
 "nbformat_minor": 2
}
