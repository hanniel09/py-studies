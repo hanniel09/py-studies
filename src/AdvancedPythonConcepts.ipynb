{
 "cells": [
  {
   "cell_type": "markdown",
   "metadata": {},
   "source": [
    "# Decorators\n",
    "\n",
    "A decorator is a design pattern in Python that allows you to add new functionality to an existing object without modifying its structure. Decorators are typically used to modify the behavior of functions or methods."
   ]
  },
  {
   "cell_type": "code",
   "execution_count": 1,
   "metadata": {},
   "outputs": [
    {
     "name": "stdout",
     "output_type": "stream",
     "text": [
      "Something is happening before the function is called.\n",
      "Hello\n",
      "Something is happening after the function is called.\n"
     ]
    }
   ],
   "source": [
    "def my_decorator(func):\n",
    "  def wrapper():\n",
    "    print(\"Something is happening before the function is called.\")\n",
    "    func()\n",
    "    print(\"Something is happening after the function is called.\")\n",
    "  return wrapper\n",
    "\n",
    "@my_decorator\n",
    "def say_hello():\n",
    "  print(\"Hello\")\n",
    "\n",
    "say_hello()"
   ]
  },
  {
   "cell_type": "markdown",
   "metadata": {},
   "source": [
    "#### Decorators with Arguments\n",
    "\n",
    "Decorators can also accept arguments"
   ]
  },
  {
   "cell_type": "code",
   "execution_count": 2,
   "metadata": {},
   "outputs": [
    {
     "name": "stdout",
     "output_type": "stream",
     "text": [
      "Hello Valentina\n",
      "Hello Valentina\n",
      "Hello Valentina\n"
     ]
    }
   ],
   "source": [
    "def repeat(num_times):\n",
    "  def decorator_repeat(func):\n",
    "    def wrapper(*args, **kwargs):\n",
    "      for _ in range(num_times):\n",
    "        result = func(*args, **kwargs)\n",
    "      return result\n",
    "    return wrapper\n",
    "  return decorator_repeat\n",
    "\n",
    "@repeat(num_times=3)\n",
    "def greet(name):\n",
    "  print(f\"Hello {name}\")\n",
    "\n",
    "greet(\"Valentina\")"
   ]
  },
  {
   "cell_type": "markdown",
   "metadata": {},
   "source": [
    "# Generators\n",
    "\n",
    "Generators are a simple way of creating iterators using a function that yields a sequence of values instead of returning a single value. Generators are useful for handling large datasets or streams of data because they generate values on the fly and do not store the entire sequence in memory.\n",
    "\n",
    "#### Basic Generator\n"
   ]
  },
  {
   "cell_type": "code",
   "execution_count": 3,
   "metadata": {},
   "outputs": [
    {
     "name": "stdout",
     "output_type": "stream",
     "text": [
      "1\n",
      "2\n",
      "3\n",
      "4\n",
      "5\n"
     ]
    }
   ],
   "source": [
    "def count_up_to(max):\n",
    "  count = 1\n",
    "  while count <= max:\n",
    "    yield count\n",
    "    count += 1\n",
    "counter = count_up_to(5)\n",
    "print(next(counter))\n",
    "print(next(counter))\n",
    "print(next(counter))\n",
    "print(next(counter))\n",
    "print(next(counter))"
   ]
  },
  {
   "cell_type": "markdown",
   "metadata": {},
   "source": [
    "#### Generator Expressions\n",
    "Similar to list comprehensions, Python supports generator expressions:"
   ]
  },
  {
   "cell_type": "code",
   "execution_count": 11,
   "metadata": {},
   "outputs": [
    {
     "name": "stdout",
     "output_type": "stream",
     "text": [
      "0\n",
      "1\n",
      "4\n",
      "9\n",
      "16\n"
     ]
    }
   ],
   "source": [
    "squares = (x * x for x in range(5))\n",
    "print(next(squares))\n",
    "print(next(squares))\n",
    "print(next(squares))\n",
    "print(next(squares))\n",
    "print(next(squares))"
   ]
  },
  {
   "cell_type": "markdown",
   "metadata": {},
   "source": [
    "# Iterators \n",
    "\n",
    "An iterator is an object that contains a countable number of values and can be iterated upon, meaning you can traverse through all the values. In Python, an iterator is an object which implements the iterator protocol, consisting of the methods `__iter__()` and `__next__()`.\n",
    "\n",
    "#### Creating an Iterator"
   ]
  },
  {
   "cell_type": "code",
   "execution_count": 12,
   "metadata": {},
   "outputs": [
    {
     "name": "stdout",
     "output_type": "stream",
     "text": [
      "1\n",
      "2\n",
      "3\n",
      "4\n",
      "5\n"
     ]
    }
   ],
   "source": [
    "class MyIterator:\n",
    "  def __init__(self, max):\n",
    "    self.max = max\n",
    "    self.current = 0\n",
    "\n",
    "  def __iter__(self):\n",
    "    return self\n",
    "  \n",
    "  def __next__(self):\n",
    "    if self.current < self.max:\n",
    "      self.current += 1\n",
    "      return self.current\n",
    "    else: \n",
    "      raise StopIteration\n",
    "    \n",
    "iterator = MyIterator(5)\n",
    "for num in iterator:\n",
    "  print(num)"
   ]
  },
  {
   "cell_type": "markdown",
   "metadata": {},
   "source": [
    "#### Using `iter()` and `next()`\n",
    "\n",
    "You can use the built-in `iter()` and `next()` functions to iterate over an object:"
   ]
  },
  {
   "cell_type": "code",
   "execution_count": 13,
   "metadata": {},
   "outputs": [
    {
     "name": "stdout",
     "output_type": "stream",
     "text": [
      "1\n",
      "2\n",
      "3\n",
      "4\n",
      "5\n"
     ]
    }
   ],
   "source": [
    "my_list = [1, 2, 3, 4, 5]\n",
    "iterator = iter(my_list)\n",
    "print(next(iterator))\n",
    "print(next(iterator))\n",
    "print(next(iterator))\n",
    "print(next(iterator))\n",
    "print(next(iterator))"
   ]
  },
  {
   "cell_type": "markdown",
   "metadata": {},
   "source": [
    "#### Combining Generators and Iterators\n",
    "\n",
    "Generators are a special type of iterator in Python. They can be used wherever iterators are required:"
   ]
  },
  {
   "cell_type": "code",
   "execution_count": 17,
   "metadata": {},
   "outputs": [
    {
     "name": "stdout",
     "output_type": "stream",
     "text": [
      "0\n",
      "1\n",
      "1\n",
      "2\n",
      "3\n",
      "5\n",
      "8\n",
      "13\n",
      "21\n",
      "34\n"
     ]
    }
   ],
   "source": [
    "def fibonacci(n):\n",
    "  a, b = 0, 1\n",
    "  while n > 0:\n",
    "    yield a \n",
    "    a, b = b, a + b\n",
    "    n -=1\n",
    "\n",
    "for num in fibonacci(10):\n",
    "  print(num)"
   ]
  },
  {
   "cell_type": "markdown",
   "metadata": {},
   "source": [
    "#### Conclusion\n",
    "- **Decorators** are used to modify or enhance functions or methods.\n",
    "- **Generators** provide a way to generate sequences of values on the fly, which can be more memory efficient.\n",
    "- **Iterators** provide a protocol for traversing items one at a time, and generators are a simple way to create iterators."
   ]
  },
  {
   "cell_type": "markdown",
   "metadata": {},
   "source": [
    "#"
   ]
  },
  {
   "cell_type": "markdown",
   "metadata": {},
   "source": [
    "# Context Managers\n",
    "\n",
    "Context managers are a feature in python that allow you to allocate and realese resources precisely when you want to. The most common use case of context managers is the `with` statement. Context managers are often used to handle resource management tasks like opening and closing files, acquiring and releasing locks, and managing database connections.\n",
    "\n",
    "> The `with` Statment \n",
    "\n",
    "The `with` statment simplifies exception handling by encapsulating common preparation and cleanup tasks in so-called context manager objects.\n"
   ]
  },
  {
   "cell_type": "code",
   "execution_count": 1,
   "metadata": {},
   "outputs": [],
   "source": [
    "with open('example.txt', 'w') as file:\n",
    "  file.write(\"Hello world\")"
   ]
  },
  {
   "cell_type": "markdown",
   "metadata": {},
   "source": [
    "#### Creating a Custom Context Manager\n",
    "\n",
    "Is possible create a custom context manager using the `__enter__` and `__exit__` methods"
   ]
  },
  {
   "cell_type": "code",
   "execution_count": 2,
   "metadata": {},
   "outputs": [
    {
     "name": "stdout",
     "output_type": "stream",
     "text": [
      "Entering the context\n",
      "Inside the context\n",
      "Exiting the context\n"
     ]
    }
   ],
   "source": [
    "class CustomContextManager:\n",
    "  def __enter__(self):\n",
    "    print(\"Entering the context\")\n",
    "    return self\n",
    "  \n",
    "  def __exit__(self, exc_type, exc_value, traceback):\n",
    "    print(\"Exiting the context\")\n",
    "    return False\n",
    "  \n",
    "with CustomContextManager() as cm:\n",
    "  print(\"Inside the context\")"
   ]
  },
  {
   "cell_type": "markdown",
   "metadata": {},
   "source": [
    "#### Using the `contextlib` Module\n",
    "\n",
    "The `contextlib` module provides utilities for creating context managers, such as the `contextmanager` decorator:"
   ]
  },
  {
   "cell_type": "code",
   "execution_count": 3,
   "metadata": {},
   "outputs": [
    {
     "name": "stdout",
     "output_type": "stream",
     "text": [
      "Entering the context\n",
      "Inside the context\n",
      "Exiting the context\n"
     ]
    }
   ],
   "source": [
    "from contextlib import contextmanager\n",
    "\n",
    "@contextmanager\n",
    "def custom_context():\n",
    "  print(\"Entering the context\")\n",
    "  yield\n",
    "  print(\"Exiting the context\")\n",
    "\n",
    "with custom_context():\n",
    "  print(\"Inside the context\")"
   ]
  },
  {
   "cell_type": "markdown",
   "metadata": {},
   "source": [
    "# Typing\n",
    "\n",
    "Typing in Python refers to the use of type hints to indicate the expected data types of variables, function parameters, and return values. Types hints improve code readability and help with static type checking, though they are not enforced at runtime.\n",
    "\n",
    "#### Basic Type Hints\n",
    "\n",
    "Type hints can be added using annotations:"
   ]
  },
  {
   "cell_type": "code",
   "execution_count": 5,
   "metadata": {},
   "outputs": [
    {
     "name": "stdout",
     "output_type": "stream",
     "text": [
      "5\n"
     ]
    }
   ],
   "source": [
    "def add(a: int, b: int) -> int:\n",
    "  return a + b\n",
    "\n",
    "result: int = add(2, 3)\n",
    "print(result)"
   ]
  },
  {
   "cell_type": "markdown",
   "metadata": {},
   "source": [
    "## Importing from the `typing` Module\n",
    "\n",
    "- List, Tuple, Set, Dict: Type hints for collections\n",
    "- Optional: Indicates that a variable can be of a specified type or `None`.\n",
    "- Union: Indicates that a variable can be one of several types.\n",
    "- Callable: Type hint for functions."
   ]
  },
  {
   "cell_type": "code",
   "execution_count": 1,
   "metadata": {},
   "outputs": [],
   "source": [
    "from typing import List, Tuple, Set, Dict, Optional, Union, Callable\n",
    "\n",
    "def process_list(items: List[int]) -> None:\n",
    "  for item in items:\n",
    "    print(item)\n",
    "\n",
    "def get_coordinates() -> Tuple[float, float]: \n",
    "  return (1.0, 2.0)\n",
    "\n",
    "def find_item(items: Set[str], item: str) -> Optional[str]:\n",
    "  return item if item in items else None\n",
    "\n",
    "def process_data(data: Union[str, bytes]) -> None:\n",
    "  print(data)\n",
    "\n",
    "def apply_function(func: Callable[[int, int], int], x: int, y: int) -> int:\n",
    "  return func(x, y)"
   ]
  }
 ],
 "metadata": {
  "kernelspec": {
   "display_name": "Python 3",
   "language": "python",
   "name": "python3"
  },
  "language_info": {
   "codemirror_mode": {
    "name": "ipython",
    "version": 3
   },
   "file_extension": ".py",
   "mimetype": "text/x-python",
   "name": "python",
   "nbconvert_exporter": "python",
   "pygments_lexer": "ipython3",
   "version": "3.12.3"
  }
 },
 "nbformat": 4,
 "nbformat_minor": 2
}
